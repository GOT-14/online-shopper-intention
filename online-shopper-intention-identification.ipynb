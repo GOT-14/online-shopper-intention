{
 "cells": [
  {
   "cell_type": "code",
   "execution_count": 1,
   "metadata": {
    "_cell_guid": "79c7e3d0-c299-4dcb-8224-4455121ee9b0",
    "_uuid": "d629ff2d2480ee46fbb7e2d37f6b5fab8052498a"
   },
   "outputs": [],
   "source": [
    "import numpy as np\n",
    "import pandas as pd\n",
    "import os\n",
    "import matplotlib.pyplot as plt\n",
    "import seaborn as sns\n",
    "import plotly as py\n",
    "import plotly.graph_objs as go\n",
    "from sklearn.model_selection import train_test_split\n",
    "from sklearn.tree import DecisionTreeClassifier\n",
    "from sklearn.linear_model import LogisticRegression\n",
    "from sklearn.ensemble import ExtraTreesClassifier,BaggingClassifier,GradientBoostingClassifier\n",
    "from sklearn.svm import SVC\n",
    "from sklearn.metrics import accuracy_score,r2_score\n",
    "from sklearn.preprocessing import LabelEncoder\n",
    "from sklearn.ensemble import RandomForestClassifier\n",
    "from sklearn.metrics import accuracy_score, classification_report,confusion_matrix"
   ]
  },
  {
   "cell_type": "code",
   "execution_count": 2,
   "metadata": {
    "scrolled": true
   },
   "outputs": [],
   "source": [
    "data = pd.read_csv('online_shoppers_intention.csv')"
   ]
  },
  {
   "cell_type": "code",
   "execution_count": 3,
   "metadata": {},
   "outputs": [
    {
     "data": {
      "text/html": [
       "<div>\n",
       "<style scoped>\n",
       "    .dataframe tbody tr th:only-of-type {\n",
       "        vertical-align: middle;\n",
       "    }\n",
       "\n",
       "    .dataframe tbody tr th {\n",
       "        vertical-align: top;\n",
       "    }\n",
       "\n",
       "    .dataframe thead th {\n",
       "        text-align: right;\n",
       "    }\n",
       "</style>\n",
       "<table border=\"1\" class=\"dataframe\">\n",
       "  <thead>\n",
       "    <tr style=\"text-align: right;\">\n",
       "      <th></th>\n",
       "      <th>Administrative</th>\n",
       "      <th>Administrative_Duration</th>\n",
       "      <th>Informational</th>\n",
       "      <th>Informational_Duration</th>\n",
       "      <th>ProductRelated</th>\n",
       "      <th>ProductRelated_Duration</th>\n",
       "      <th>BounceRates</th>\n",
       "      <th>ExitRates</th>\n",
       "      <th>PageValues</th>\n",
       "      <th>SpecialDay</th>\n",
       "      <th>Month</th>\n",
       "      <th>OperatingSystems</th>\n",
       "      <th>Browser</th>\n",
       "      <th>Region</th>\n",
       "      <th>TrafficType</th>\n",
       "      <th>VisitorType</th>\n",
       "      <th>Weekend</th>\n",
       "      <th>Revenue</th>\n",
       "    </tr>\n",
       "  </thead>\n",
       "  <tbody>\n",
       "    <tr>\n",
       "      <th>0</th>\n",
       "      <td>0.0</td>\n",
       "      <td>0.0</td>\n",
       "      <td>0.0</td>\n",
       "      <td>0.0</td>\n",
       "      <td>1.0</td>\n",
       "      <td>0.000000</td>\n",
       "      <td>0.20</td>\n",
       "      <td>0.20</td>\n",
       "      <td>0.0</td>\n",
       "      <td>0.0</td>\n",
       "      <td>Feb</td>\n",
       "      <td>1</td>\n",
       "      <td>1</td>\n",
       "      <td>1</td>\n",
       "      <td>1</td>\n",
       "      <td>Returning_Visitor</td>\n",
       "      <td>False</td>\n",
       "      <td>False</td>\n",
       "    </tr>\n",
       "    <tr>\n",
       "      <th>1</th>\n",
       "      <td>0.0</td>\n",
       "      <td>0.0</td>\n",
       "      <td>0.0</td>\n",
       "      <td>0.0</td>\n",
       "      <td>2.0</td>\n",
       "      <td>64.000000</td>\n",
       "      <td>0.00</td>\n",
       "      <td>0.10</td>\n",
       "      <td>0.0</td>\n",
       "      <td>0.0</td>\n",
       "      <td>Feb</td>\n",
       "      <td>2</td>\n",
       "      <td>2</td>\n",
       "      <td>1</td>\n",
       "      <td>2</td>\n",
       "      <td>Returning_Visitor</td>\n",
       "      <td>False</td>\n",
       "      <td>False</td>\n",
       "    </tr>\n",
       "    <tr>\n",
       "      <th>2</th>\n",
       "      <td>0.0</td>\n",
       "      <td>-1.0</td>\n",
       "      <td>0.0</td>\n",
       "      <td>-1.0</td>\n",
       "      <td>1.0</td>\n",
       "      <td>-1.000000</td>\n",
       "      <td>0.20</td>\n",
       "      <td>0.20</td>\n",
       "      <td>0.0</td>\n",
       "      <td>0.0</td>\n",
       "      <td>Feb</td>\n",
       "      <td>4</td>\n",
       "      <td>1</td>\n",
       "      <td>9</td>\n",
       "      <td>3</td>\n",
       "      <td>Returning_Visitor</td>\n",
       "      <td>False</td>\n",
       "      <td>False</td>\n",
       "    </tr>\n",
       "    <tr>\n",
       "      <th>3</th>\n",
       "      <td>0.0</td>\n",
       "      <td>0.0</td>\n",
       "      <td>0.0</td>\n",
       "      <td>0.0</td>\n",
       "      <td>2.0</td>\n",
       "      <td>2.666667</td>\n",
       "      <td>0.05</td>\n",
       "      <td>0.14</td>\n",
       "      <td>0.0</td>\n",
       "      <td>0.0</td>\n",
       "      <td>Feb</td>\n",
       "      <td>3</td>\n",
       "      <td>2</td>\n",
       "      <td>2</td>\n",
       "      <td>4</td>\n",
       "      <td>Returning_Visitor</td>\n",
       "      <td>False</td>\n",
       "      <td>False</td>\n",
       "    </tr>\n",
       "    <tr>\n",
       "      <th>4</th>\n",
       "      <td>0.0</td>\n",
       "      <td>0.0</td>\n",
       "      <td>0.0</td>\n",
       "      <td>0.0</td>\n",
       "      <td>10.0</td>\n",
       "      <td>627.500000</td>\n",
       "      <td>0.02</td>\n",
       "      <td>0.05</td>\n",
       "      <td>0.0</td>\n",
       "      <td>0.0</td>\n",
       "      <td>Feb</td>\n",
       "      <td>3</td>\n",
       "      <td>3</td>\n",
       "      <td>1</td>\n",
       "      <td>4</td>\n",
       "      <td>Returning_Visitor</td>\n",
       "      <td>True</td>\n",
       "      <td>False</td>\n",
       "    </tr>\n",
       "  </tbody>\n",
       "</table>\n",
       "</div>"
      ],
      "text/plain": [
       "   Administrative  Administrative_Duration  Informational  \\\n",
       "0             0.0                      0.0            0.0   \n",
       "1             0.0                      0.0            0.0   \n",
       "2             0.0                     -1.0            0.0   \n",
       "3             0.0                      0.0            0.0   \n",
       "4             0.0                      0.0            0.0   \n",
       "\n",
       "   Informational_Duration  ProductRelated  ProductRelated_Duration  \\\n",
       "0                     0.0             1.0                 0.000000   \n",
       "1                     0.0             2.0                64.000000   \n",
       "2                    -1.0             1.0                -1.000000   \n",
       "3                     0.0             2.0                 2.666667   \n",
       "4                     0.0            10.0               627.500000   \n",
       "\n",
       "   BounceRates  ExitRates  PageValues  SpecialDay Month  OperatingSystems  \\\n",
       "0         0.20       0.20         0.0         0.0   Feb                 1   \n",
       "1         0.00       0.10         0.0         0.0   Feb                 2   \n",
       "2         0.20       0.20         0.0         0.0   Feb                 4   \n",
       "3         0.05       0.14         0.0         0.0   Feb                 3   \n",
       "4         0.02       0.05         0.0         0.0   Feb                 3   \n",
       "\n",
       "   Browser  Region  TrafficType        VisitorType  Weekend  Revenue  \n",
       "0        1       1            1  Returning_Visitor    False    False  \n",
       "1        2       1            2  Returning_Visitor    False    False  \n",
       "2        1       9            3  Returning_Visitor    False    False  \n",
       "3        2       2            4  Returning_Visitor    False    False  \n",
       "4        3       1            4  Returning_Visitor     True    False  "
      ]
     },
     "execution_count": 3,
     "metadata": {},
     "output_type": "execute_result"
    }
   ],
   "source": [
    "data.head()"
   ]
  },
  {
   "cell_type": "code",
   "execution_count": 4,
   "metadata": {},
   "outputs": [
    {
     "data": {
      "text/plain": [
       "(12330, 18)"
      ]
     },
     "execution_count": 4,
     "metadata": {},
     "output_type": "execute_result"
    }
   ],
   "source": [
    "data.shape"
   ]
  },
  {
   "cell_type": "code",
   "execution_count": 5,
   "metadata": {},
   "outputs": [
    {
     "data": {
      "text/html": [
       "<div>\n",
       "<style scoped>\n",
       "    .dataframe tbody tr th:only-of-type {\n",
       "        vertical-align: middle;\n",
       "    }\n",
       "\n",
       "    .dataframe tbody tr th {\n",
       "        vertical-align: top;\n",
       "    }\n",
       "\n",
       "    .dataframe thead th {\n",
       "        text-align: right;\n",
       "    }\n",
       "</style>\n",
       "<table border=\"1\" class=\"dataframe\">\n",
       "  <thead>\n",
       "    <tr style=\"text-align: right;\">\n",
       "      <th></th>\n",
       "      <th>Administrative</th>\n",
       "      <th>Administrative_Duration</th>\n",
       "      <th>Informational</th>\n",
       "      <th>Informational_Duration</th>\n",
       "      <th>ProductRelated</th>\n",
       "      <th>ProductRelated_Duration</th>\n",
       "      <th>BounceRates</th>\n",
       "      <th>ExitRates</th>\n",
       "      <th>PageValues</th>\n",
       "      <th>SpecialDay</th>\n",
       "      <th>OperatingSystems</th>\n",
       "      <th>Browser</th>\n",
       "      <th>Region</th>\n",
       "      <th>TrafficType</th>\n",
       "    </tr>\n",
       "  </thead>\n",
       "  <tbody>\n",
       "    <tr>\n",
       "      <th>count</th>\n",
       "      <td>12316.000000</td>\n",
       "      <td>12316.000000</td>\n",
       "      <td>12316.000000</td>\n",
       "      <td>12316.000000</td>\n",
       "      <td>12316.000000</td>\n",
       "      <td>12316.000000</td>\n",
       "      <td>12316.000000</td>\n",
       "      <td>12316.000000</td>\n",
       "      <td>12330.000000</td>\n",
       "      <td>12330.000000</td>\n",
       "      <td>12330.000000</td>\n",
       "      <td>12330.000000</td>\n",
       "      <td>12330.000000</td>\n",
       "      <td>12330.000000</td>\n",
       "    </tr>\n",
       "    <tr>\n",
       "      <th>mean</th>\n",
       "      <td>2.317798</td>\n",
       "      <td>80.906176</td>\n",
       "      <td>0.503979</td>\n",
       "      <td>34.506387</td>\n",
       "      <td>31.763884</td>\n",
       "      <td>1196.037057</td>\n",
       "      <td>0.022152</td>\n",
       "      <td>0.043003</td>\n",
       "      <td>5.889258</td>\n",
       "      <td>0.061427</td>\n",
       "      <td>2.124006</td>\n",
       "      <td>2.357097</td>\n",
       "      <td>3.147364</td>\n",
       "      <td>4.069586</td>\n",
       "    </tr>\n",
       "    <tr>\n",
       "      <th>std</th>\n",
       "      <td>3.322754</td>\n",
       "      <td>176.860432</td>\n",
       "      <td>1.270701</td>\n",
       "      <td>140.825479</td>\n",
       "      <td>44.490339</td>\n",
       "      <td>1914.372511</td>\n",
       "      <td>0.048427</td>\n",
       "      <td>0.048527</td>\n",
       "      <td>18.568437</td>\n",
       "      <td>0.198917</td>\n",
       "      <td>0.911325</td>\n",
       "      <td>1.717277</td>\n",
       "      <td>2.401591</td>\n",
       "      <td>4.025169</td>\n",
       "    </tr>\n",
       "    <tr>\n",
       "      <th>min</th>\n",
       "      <td>0.000000</td>\n",
       "      <td>-1.000000</td>\n",
       "      <td>0.000000</td>\n",
       "      <td>-1.000000</td>\n",
       "      <td>0.000000</td>\n",
       "      <td>-1.000000</td>\n",
       "      <td>0.000000</td>\n",
       "      <td>0.000000</td>\n",
       "      <td>0.000000</td>\n",
       "      <td>0.000000</td>\n",
       "      <td>1.000000</td>\n",
       "      <td>1.000000</td>\n",
       "      <td>1.000000</td>\n",
       "      <td>1.000000</td>\n",
       "    </tr>\n",
       "    <tr>\n",
       "      <th>25%</th>\n",
       "      <td>0.000000</td>\n",
       "      <td>0.000000</td>\n",
       "      <td>0.000000</td>\n",
       "      <td>0.000000</td>\n",
       "      <td>7.000000</td>\n",
       "      <td>185.000000</td>\n",
       "      <td>0.000000</td>\n",
       "      <td>0.014286</td>\n",
       "      <td>0.000000</td>\n",
       "      <td>0.000000</td>\n",
       "      <td>2.000000</td>\n",
       "      <td>2.000000</td>\n",
       "      <td>1.000000</td>\n",
       "      <td>2.000000</td>\n",
       "    </tr>\n",
       "    <tr>\n",
       "      <th>50%</th>\n",
       "      <td>1.000000</td>\n",
       "      <td>8.000000</td>\n",
       "      <td>0.000000</td>\n",
       "      <td>0.000000</td>\n",
       "      <td>18.000000</td>\n",
       "      <td>599.766190</td>\n",
       "      <td>0.003119</td>\n",
       "      <td>0.025124</td>\n",
       "      <td>0.000000</td>\n",
       "      <td>0.000000</td>\n",
       "      <td>2.000000</td>\n",
       "      <td>2.000000</td>\n",
       "      <td>3.000000</td>\n",
       "      <td>2.000000</td>\n",
       "    </tr>\n",
       "    <tr>\n",
       "      <th>75%</th>\n",
       "      <td>4.000000</td>\n",
       "      <td>93.500000</td>\n",
       "      <td>0.000000</td>\n",
       "      <td>0.000000</td>\n",
       "      <td>38.000000</td>\n",
       "      <td>1466.479902</td>\n",
       "      <td>0.016684</td>\n",
       "      <td>0.050000</td>\n",
       "      <td>0.000000</td>\n",
       "      <td>0.000000</td>\n",
       "      <td>3.000000</td>\n",
       "      <td>2.000000</td>\n",
       "      <td>4.000000</td>\n",
       "      <td>4.000000</td>\n",
       "    </tr>\n",
       "    <tr>\n",
       "      <th>max</th>\n",
       "      <td>27.000000</td>\n",
       "      <td>3398.750000</td>\n",
       "      <td>24.000000</td>\n",
       "      <td>2549.375000</td>\n",
       "      <td>705.000000</td>\n",
       "      <td>63973.522230</td>\n",
       "      <td>0.200000</td>\n",
       "      <td>0.200000</td>\n",
       "      <td>361.763742</td>\n",
       "      <td>1.000000</td>\n",
       "      <td>8.000000</td>\n",
       "      <td>13.000000</td>\n",
       "      <td>9.000000</td>\n",
       "      <td>20.000000</td>\n",
       "    </tr>\n",
       "  </tbody>\n",
       "</table>\n",
       "</div>"
      ],
      "text/plain": [
       "       Administrative  Administrative_Duration  Informational  \\\n",
       "count    12316.000000             12316.000000   12316.000000   \n",
       "mean         2.317798                80.906176       0.503979   \n",
       "std          3.322754               176.860432       1.270701   \n",
       "min          0.000000                -1.000000       0.000000   \n",
       "25%          0.000000                 0.000000       0.000000   \n",
       "50%          1.000000                 8.000000       0.000000   \n",
       "75%          4.000000                93.500000       0.000000   \n",
       "max         27.000000              3398.750000      24.000000   \n",
       "\n",
       "       Informational_Duration  ProductRelated  ProductRelated_Duration  \\\n",
       "count            12316.000000    12316.000000             12316.000000   \n",
       "mean                34.506387       31.763884              1196.037057   \n",
       "std                140.825479       44.490339              1914.372511   \n",
       "min                 -1.000000        0.000000                -1.000000   \n",
       "25%                  0.000000        7.000000               185.000000   \n",
       "50%                  0.000000       18.000000               599.766190   \n",
       "75%                  0.000000       38.000000              1466.479902   \n",
       "max               2549.375000      705.000000             63973.522230   \n",
       "\n",
       "        BounceRates     ExitRates    PageValues    SpecialDay  \\\n",
       "count  12316.000000  12316.000000  12330.000000  12330.000000   \n",
       "mean       0.022152      0.043003      5.889258      0.061427   \n",
       "std        0.048427      0.048527     18.568437      0.198917   \n",
       "min        0.000000      0.000000      0.000000      0.000000   \n",
       "25%        0.000000      0.014286      0.000000      0.000000   \n",
       "50%        0.003119      0.025124      0.000000      0.000000   \n",
       "75%        0.016684      0.050000      0.000000      0.000000   \n",
       "max        0.200000      0.200000    361.763742      1.000000   \n",
       "\n",
       "       OperatingSystems       Browser        Region   TrafficType  \n",
       "count      12330.000000  12330.000000  12330.000000  12330.000000  \n",
       "mean           2.124006      2.357097      3.147364      4.069586  \n",
       "std            0.911325      1.717277      2.401591      4.025169  \n",
       "min            1.000000      1.000000      1.000000      1.000000  \n",
       "25%            2.000000      2.000000      1.000000      2.000000  \n",
       "50%            2.000000      2.000000      3.000000      2.000000  \n",
       "75%            3.000000      2.000000      4.000000      4.000000  \n",
       "max            8.000000     13.000000      9.000000     20.000000  "
      ]
     },
     "execution_count": 5,
     "metadata": {},
     "output_type": "execute_result"
    }
   ],
   "source": [
    "data.describe()"
   ]
  },
  {
   "cell_type": "markdown",
   "metadata": {},
   "source": [
    "> **** Filling Missing Values****"
   ]
  },
  {
   "cell_type": "code",
   "execution_count": 6,
   "metadata": {},
   "outputs": [
    {
     "data": {
      "text/plain": [
       "112"
      ]
     },
     "execution_count": 6,
     "metadata": {},
     "output_type": "execute_result"
    }
   ],
   "source": [
    "data.isnull().sum().sum()"
   ]
  },
  {
   "cell_type": "code",
   "execution_count": 7,
   "metadata": {},
   "outputs": [],
   "source": [
    "data = data.dropna()"
   ]
  },
  {
   "cell_type": "code",
   "execution_count": 8,
   "metadata": {},
   "outputs": [
    {
     "data": {
      "text/plain": [
       "0"
      ]
     },
     "execution_count": 8,
     "metadata": {},
     "output_type": "execute_result"
    }
   ],
   "source": [
    "data.isnull().sum().sum()"
   ]
  },
  {
   "cell_type": "markdown",
   "metadata": {},
   "source": [
    "**Weekend**"
   ]
  },
  {
   "cell_type": "code",
   "execution_count": 9,
   "metadata": {},
   "outputs": [
    {
     "data": {
      "text/plain": [
       "<seaborn.axisgrid.FacetGrid at 0x7fb30d3b7a58>"
      ]
     },
     "execution_count": 9,
     "metadata": {},
     "output_type": "execute_result"
    },
    {
     "data": {
      "image/png": "[encoded data removed]",
      "text/plain": [
       "<Figure size 360x360 with 1 Axes>"
      ]
     },
     "metadata": {
      "needs_background": "light"
     },
     "output_type": "display_data"
    }
   ],
   "source": [
    "sns.catplot(x='Weekend',kind='count', data=data)"
   ]
  },
  {
   "cell_type": "code",
   "execution_count": 10,
   "metadata": {},
   "outputs": [
    {
     "data": {
      "image/png": "[encoded data removed]",
      "text/plain": [
       "<Figure size 576x504 with 1 Axes>"
      ]
     },
     "metadata": {},
     "output_type": "display_data"
    }
   ],
   "source": [
    "fig = plt.figure(figsize=(8,7))\n",
    "data['Weekend'].value_counts().plot(kind=\"pie\", autopct=\"%.1f%%\")\n",
    "plt.title(\"Weekend or Not\")\n",
    "plt.legend(labels=[\"TRUE\", \"FALSE\"])\n",
    "plt.tight_layout()\n",
    "plt.show()"
   ]
  },
  {
   "cell_type": "markdown",
   "metadata": {},
   "source": [
    "**Region**"
   ]
  },
  {
   "cell_type": "code",
   "execution_count": 11,
   "metadata": {},
   "outputs": [
    {
     "data": {
      "image/png": "[encoded data removed]",
      "text/plain": [
       "<Figure size 1296x504 with 1 Axes>"
      ]
     },
     "metadata": {
      "needs_background": "light"
     },
     "output_type": "display_data"
    }
   ],
   "source": [
    "plt.rcParams['figure.figsize'] = (18,7)\n",
    "plt.subplot(1,2,2)\n",
    "sns.countplot(data['Region'], palette='inferno')\n",
    "plt.title('Region', fontsize=30)\n",
    "plt.xlabel('Region', fontsize=15)\n",
    "plt.ylabel('count', fontsize=15)\n",
    "plt.show()"
   ]
  },
  {
   "cell_type": "markdown",
   "metadata": {},
   "source": [
    "**Revenue**"
   ]
  },
  {
   "cell_type": "code",
   "execution_count": 12,
   "metadata": {},
   "outputs": [
    {
     "data": {
      "text/plain": [
       "<seaborn.axisgrid.FacetGrid at 0x7fb30ab6ef28>"
      ]
     },
     "execution_count": 12,
     "metadata": {},
     "output_type": "execute_result"
    },
    {
     "data": {
      "image/png": "[encoded data removed]",
      "text/plain": [
       "<Figure size 360x360 with 1 Axes>"
      ]
     },
     "metadata": {
      "needs_background": "light"
     },
     "output_type": "display_data"
    }
   ],
   "source": [
    "sns.catplot(x=\"Revenue\", kind='count', data=data)"
   ]
  },
  {
   "cell_type": "code",
   "execution_count": 13,
   "metadata": {},
   "outputs": [
    {
     "data": {
      "image/png": "[encoded data removed]",
      "text/plain": [
       "<Figure size 576x504 with 1 Axes>"
      ]
     },
     "metadata": {},
     "output_type": "display_data"
    }
   ],
   "source": [
    "fig = plt.figure(figsize=(8,7))\n",
    "data['Revenue'].value_counts().plot(kind=\"pie\", autopct=\"%.1f%%\")\n",
    "plt.title(\"Revenue\")\n",
    "plt.legend(labels=[\"TRUE\", \"FALSE\"])\n",
    "plt.tight_layout()\n",
    "plt.show()"
   ]
  },
  {
   "cell_type": "markdown",
   "metadata": {},
   "source": [
    "**Traffic Type**"
   ]
  },
  {
   "cell_type": "code",
   "execution_count": 14,
   "metadata": {},
   "outputs": [
    {
     "data": {
      "image/png": "[encoded data removed]",
      "text/plain": [
       "<Figure size 1296x504 with 1 Axes>"
      ]
     },
     "metadata": {
      "needs_background": "light"
     },
     "output_type": "display_data"
    }
   ],
   "source": [
    "plt.rcParams['figure.figsize'] = (18,7)\n",
    "plt.subplot(1,2,2)\n",
    "sns.countplot(data['TrafficType'], palette='inferno')\n",
    "plt.title('Traffic Type', fontsize=30)\n",
    "plt.xlabel('TrafficType', fontsize=15)\n",
    "plt.ylabel('count', fontsize=15)\n",
    "plt.show()"
   ]
  },
  {
   "cell_type": "code",
   "execution_count": 15,
   "metadata": {},
   "outputs": [
    {
     "data": {
      "image/png": "[encoded data removed]",
      "text/plain": [
       "<Figure size 1296x504 with 1 Axes>"
      ]
     },
     "metadata": {
      "needs_background": "light"
     },
     "output_type": "display_data"
    }
   ],
   "source": [
    "plt.rcParams['figure.figsize'] = (18,7)\n",
    "plt.subplot(1,2,2)\n",
    "sns.countplot(data['OperatingSystems'], palette='inferno')\n",
    "plt.title('Operating Systems', fontsize=30)\n",
    "plt.xlabel('OperatingSystems', fontsize=15)\n",
    "plt.ylabel('count', fontsize=15)\n",
    "plt.show()"
   ]
  },
  {
   "cell_type": "code",
   "execution_count": 16,
   "metadata": {},
   "outputs": [
    {
     "data": {
      "image/png": "[encoded data removed]",
      "text/plain": [
       "<Figure size 1296x504 with 1 Axes>"
      ]
     },
     "metadata": {
      "needs_background": "light"
     },
     "output_type": "display_data"
    }
   ],
   "source": [
    "plt.rcParams['figure.figsize'] = (18,7)\n",
    "plt.subplot(1,2,2)\n",
    "sns.countplot(data['Browser'], palette='inferno')\n",
    "plt.title('Browser', fontsize=30)\n",
    "plt.xlabel('Browser', fontsize=15)\n",
    "plt.ylabel('count', fontsize=15)\n",
    "plt.show()"
   ]
  },
  {
   "cell_type": "code",
   "execution_count": 17,
   "metadata": {},
   "outputs": [
    {
     "data": {
      "image/png": "[encoded data removed]",
      "text/plain": [
       "<Figure size 1296x504 with 1 Axes>"
      ]
     },
     "metadata": {
      "needs_background": "light"
     },
     "output_type": "display_data"
    }
   ],
   "source": [
    "plt.rcParams['figure.figsize'] = (18,7)\n",
    "plt.subplot(1,2,2)\n",
    "sns.countplot(data['VisitorType'], palette='inferno')\n",
    "plt.title('Visitor Type', fontsize=30)\n",
    "plt.xlabel('VisitorType', fontsize=15)\n",
    "plt.ylabel('count', fontsize=15)\n",
    "plt.show()"
   ]
  },
  {
   "cell_type": "markdown",
   "metadata": {},
   "source": [
    "**Bivariate Analyss**"
   ]
  },
  {
   "cell_type": "markdown",
   "metadata": {},
   "source": [
    "***Weekend VS Revenue***"
   ]
  },
  {
   "cell_type": "code",
   "execution_count": 18,
   "metadata": {},
   "outputs": [
    {
     "data": {
      "image/png": "[encoded data removed]",
      "text/plain": [
       "<Figure size 1080x360 with 1 Axes>"
      ]
     },
     "metadata": {
      "needs_background": "light"
     },
     "output_type": "display_data"
    }
   ],
   "source": [
    "df = pd.crosstab(data['Weekend'], data['Revenue'])\n",
    "df.div(df.sum(1).astype(float), axis=0).plot(kind='bar', stacked=False, figsize=(15,5), color=['orange', 'crimson'])\n",
    "plt.title('Weekend VS Revenue', fontsize=30)\n",
    "plt.show()"
   ]
  },
  {
   "cell_type": "markdown",
   "metadata": {},
   "source": [
    "**Visitor type VS Revenue**"
   ]
  },
  {
   "cell_type": "code",
   "execution_count": 19,
   "metadata": {},
   "outputs": [
    {
     "data": {
      "image/png": "[encoded data removed]",
      "text/plain": [
       "<Figure size 1080x360 with 1 Axes>"
      ]
     },
     "metadata": {
      "needs_background": "light"
     },
     "output_type": "display_data"
    }
   ],
   "source": [
    "df = pd.crosstab(data['VisitorType'], data['Revenue'])\n",
    "df.div(df.sum(1).astype(float), axis=0).plot(kind='bar', stacked=False, figsize=(15,5), color=['orange', 'crimson'])\n",
    "plt.title('Visitor type VS Revenue', fontsize=30)\n",
    "plt.show()"
   ]
  },
  {
   "cell_type": "markdown",
   "metadata": {},
   "source": [
    "****Region vs Revenue****"
   ]
  },
  {
   "cell_type": "code",
   "execution_count": 20,
   "metadata": {},
   "outputs": [
    {
     "data": {
      "image/png": "[encoded data removed]",
      "text/plain": [
       "<Figure size 1080x360 with 1 Axes>"
      ]
     },
     "metadata": {
      "needs_background": "light"
     },
     "output_type": "display_data"
    }
   ],
   "source": [
    "df = pd.crosstab(data['Region'], data['Revenue'])\n",
    "df.div(df.sum(1).astype(float), axis=0).plot(kind='bar', stacked=False, figsize=(15,5), color=['orange', 'crimson'])\n",
    "plt.title('Region VS Revenue', fontsize=30)\n",
    "plt.show()"
   ]
  },
  {
   "cell_type": "markdown",
   "metadata": {},
   "source": [
    "**Month VS Revenue**"
   ]
  },
  {
   "cell_type": "code",
   "execution_count": 21,
   "metadata": {},
   "outputs": [
    {
     "data": {
      "image/png": "[encoded data removed]",
      "text/plain": [
       "<Figure size 1080x360 with 1 Axes>"
      ]
     },
     "metadata": {
      "needs_background": "light"
     },
     "output_type": "display_data"
    }
   ],
   "source": [
    "df = pd.crosstab(data['Month'], data['Revenue'])\n",
    "df.div(df.sum(1).astype(float), axis=0).plot(kind='bar', stacked=False, figsize=(15,5), color=['orange', 'crimson'])\n",
    "plt.title('Month VS Revenue', fontsize=30)\n",
    "plt.show()"
   ]
  },
  {
   "cell_type": "markdown",
   "metadata": {},
   "source": [
    "**Correlation Analysis**"
   ]
  },
  {
   "cell_type": "code",
   "execution_count": 22,
   "metadata": {},
   "outputs": [
    {
     "data": {
      "text/html": [
       "<div>\n",
       "<style scoped>\n",
       "    .dataframe tbody tr th:only-of-type {\n",
       "        vertical-align: middle;\n",
       "    }\n",
       "\n",
       "    .dataframe tbody tr th {\n",
       "        vertical-align: top;\n",
       "    }\n",
       "\n",
       "    .dataframe thead th {\n",
       "        text-align: right;\n",
       "    }\n",
       "</style>\n",
       "<table border=\"1\" class=\"dataframe\">\n",
       "  <thead>\n",
       "    <tr style=\"text-align: right;\">\n",
       "      <th></th>\n",
       "      <th>Administrative</th>\n",
       "      <th>Administrative_Duration</th>\n",
       "      <th>Informational</th>\n",
       "      <th>Informational_Duration</th>\n",
       "      <th>ProductRelated</th>\n",
       "      <th>ProductRelated_Duration</th>\n",
       "      <th>BounceRates</th>\n",
       "      <th>ExitRates</th>\n",
       "      <th>PageValues</th>\n",
       "      <th>SpecialDay</th>\n",
       "      <th>OperatingSystems</th>\n",
       "      <th>Browser</th>\n",
       "      <th>Region</th>\n",
       "      <th>TrafficType</th>\n",
       "      <th>Weekend</th>\n",
       "      <th>Revenue</th>\n",
       "    </tr>\n",
       "  </thead>\n",
       "  <tbody>\n",
       "    <tr>\n",
       "      <th>Administrative</th>\n",
       "      <td>1.000000</td>\n",
       "      <td>0.601466</td>\n",
       "      <td>0.376782</td>\n",
       "      <td>0.255757</td>\n",
       "      <td>0.430832</td>\n",
       "      <td>0.373647</td>\n",
       "      <td>-0.223474</td>\n",
       "      <td>-0.316192</td>\n",
       "      <td>0.098771</td>\n",
       "      <td>-0.095054</td>\n",
       "      <td>-0.006459</td>\n",
       "      <td>-0.025243</td>\n",
       "      <td>-0.005680</td>\n",
       "      <td>-0.033748</td>\n",
       "      <td>0.026404</td>\n",
       "      <td>0.138631</td>\n",
       "    </tr>\n",
       "    <tr>\n",
       "      <th>Administrative_Duration</th>\n",
       "      <td>0.601466</td>\n",
       "      <td>1.000000</td>\n",
       "      <td>0.302647</td>\n",
       "      <td>0.237959</td>\n",
       "      <td>0.288869</td>\n",
       "      <td>0.355238</td>\n",
       "      <td>-0.144128</td>\n",
       "      <td>-0.205618</td>\n",
       "      <td>0.067463</td>\n",
       "      <td>-0.073472</td>\n",
       "      <td>-0.007425</td>\n",
       "      <td>-0.015525</td>\n",
       "      <td>-0.005681</td>\n",
       "      <td>-0.014487</td>\n",
       "      <td>0.014987</td>\n",
       "      <td>0.093395</td>\n",
       "    </tr>\n",
       "    <tr>\n",
       "      <th>Informational</th>\n",
       "      <td>0.376782</td>\n",
       "      <td>0.302647</td>\n",
       "      <td>1.000000</td>\n",
       "      <td>0.618965</td>\n",
       "      <td>0.374098</td>\n",
       "      <td>0.387446</td>\n",
       "      <td>-0.116071</td>\n",
       "      <td>-0.163539</td>\n",
       "      <td>0.048539</td>\n",
       "      <td>-0.048328</td>\n",
       "      <td>-0.009435</td>\n",
       "      <td>-0.038257</td>\n",
       "      <td>-0.029442</td>\n",
       "      <td>-0.034510</td>\n",
       "      <td>0.035557</td>\n",
       "      <td>0.095085</td>\n",
       "    </tr>\n",
       "    <tr>\n",
       "      <th>Informational_Duration</th>\n",
       "      <td>0.255757</td>\n",
       "      <td>0.237959</td>\n",
       "      <td>0.618965</td>\n",
       "      <td>1.000000</td>\n",
       "      <td>0.279966</td>\n",
       "      <td>0.347300</td>\n",
       "      <td>-0.074077</td>\n",
       "      <td>-0.105205</td>\n",
       "      <td>0.030787</td>\n",
       "      <td>-0.030658</td>\n",
       "      <td>-0.009596</td>\n",
       "      <td>-0.019346</td>\n",
       "      <td>-0.027244</td>\n",
       "      <td>-0.024731</td>\n",
       "      <td>0.024054</td>\n",
       "      <td>0.070250</td>\n",
       "    </tr>\n",
       "    <tr>\n",
       "      <th>ProductRelated</th>\n",
       "      <td>0.430832</td>\n",
       "      <td>0.288869</td>\n",
       "      <td>0.374098</td>\n",
       "      <td>0.279966</td>\n",
       "      <td>1.000000</td>\n",
       "      <td>0.860868</td>\n",
       "      <td>-0.204469</td>\n",
       "      <td>-0.292219</td>\n",
       "      <td>0.056067</td>\n",
       "      <td>-0.024190</td>\n",
       "      <td>0.004193</td>\n",
       "      <td>-0.013326</td>\n",
       "      <td>-0.038318</td>\n",
       "      <td>-0.043235</td>\n",
       "      <td>0.016097</td>\n",
       "      <td>0.158280</td>\n",
       "    </tr>\n",
       "    <tr>\n",
       "      <th>ProductRelated_Duration</th>\n",
       "      <td>0.373647</td>\n",
       "      <td>0.355238</td>\n",
       "      <td>0.387446</td>\n",
       "      <td>0.347300</td>\n",
       "      <td>0.860868</td>\n",
       "      <td>1.000000</td>\n",
       "      <td>-0.184409</td>\n",
       "      <td>-0.251645</td>\n",
       "      <td>0.052623</td>\n",
       "      <td>-0.036598</td>\n",
       "      <td>0.002885</td>\n",
       "      <td>-0.007549</td>\n",
       "      <td>-0.033263</td>\n",
       "      <td>-0.036538</td>\n",
       "      <td>0.007293</td>\n",
       "      <td>0.152130</td>\n",
       "    </tr>\n",
       "    <tr>\n",
       "      <th>BounceRates</th>\n",
       "      <td>-0.223474</td>\n",
       "      <td>-0.144128</td>\n",
       "      <td>-0.116071</td>\n",
       "      <td>-0.074077</td>\n",
       "      <td>-0.204469</td>\n",
       "      <td>-0.184409</td>\n",
       "      <td>1.000000</td>\n",
       "      <td>0.913436</td>\n",
       "      <td>-0.119357</td>\n",
       "      <td>0.073088</td>\n",
       "      <td>0.023965</td>\n",
       "      <td>-0.016009</td>\n",
       "      <td>-0.006731</td>\n",
       "      <td>0.078894</td>\n",
       "      <td>-0.046870</td>\n",
       "      <td>-0.150621</td>\n",
       "    </tr>\n",
       "    <tr>\n",
       "      <th>ExitRates</th>\n",
       "      <td>-0.316192</td>\n",
       "      <td>-0.205618</td>\n",
       "      <td>-0.163539</td>\n",
       "      <td>-0.105205</td>\n",
       "      <td>-0.292219</td>\n",
       "      <td>-0.251645</td>\n",
       "      <td>0.913436</td>\n",
       "      <td>1.000000</td>\n",
       "      <td>-0.174397</td>\n",
       "      <td>0.102899</td>\n",
       "      <td>0.014745</td>\n",
       "      <td>-0.004407</td>\n",
       "      <td>-0.008836</td>\n",
       "      <td>0.078998</td>\n",
       "      <td>-0.062942</td>\n",
       "      <td>-0.206886</td>\n",
       "    </tr>\n",
       "    <tr>\n",
       "      <th>PageValues</th>\n",
       "      <td>0.098771</td>\n",
       "      <td>0.067463</td>\n",
       "      <td>0.048539</td>\n",
       "      <td>0.030787</td>\n",
       "      <td>0.056067</td>\n",
       "      <td>0.052623</td>\n",
       "      <td>-0.119357</td>\n",
       "      <td>-0.174397</td>\n",
       "      <td>1.000000</td>\n",
       "      <td>-0.063660</td>\n",
       "      <td>0.018466</td>\n",
       "      <td>0.045510</td>\n",
       "      <td>0.011233</td>\n",
       "      <td>0.012471</td>\n",
       "      <td>0.011993</td>\n",
       "      <td>0.492494</td>\n",
       "    </tr>\n",
       "    <tr>\n",
       "      <th>SpecialDay</th>\n",
       "      <td>-0.095054</td>\n",
       "      <td>-0.073472</td>\n",
       "      <td>-0.048328</td>\n",
       "      <td>-0.030658</td>\n",
       "      <td>-0.024190</td>\n",
       "      <td>-0.036598</td>\n",
       "      <td>0.073088</td>\n",
       "      <td>0.102899</td>\n",
       "      <td>-0.063660</td>\n",
       "      <td>1.000000</td>\n",
       "      <td>0.012609</td>\n",
       "      <td>0.003412</td>\n",
       "      <td>-0.016188</td>\n",
       "      <td>0.052273</td>\n",
       "      <td>-0.016792</td>\n",
       "      <td>-0.082468</td>\n",
       "    </tr>\n",
       "    <tr>\n",
       "      <th>OperatingSystems</th>\n",
       "      <td>-0.006459</td>\n",
       "      <td>-0.007425</td>\n",
       "      <td>-0.009435</td>\n",
       "      <td>-0.009596</td>\n",
       "      <td>0.004193</td>\n",
       "      <td>0.002885</td>\n",
       "      <td>0.023965</td>\n",
       "      <td>0.014745</td>\n",
       "      <td>0.018466</td>\n",
       "      <td>0.012609</td>\n",
       "      <td>1.000000</td>\n",
       "      <td>0.222916</td>\n",
       "      <td>0.076785</td>\n",
       "      <td>0.189072</td>\n",
       "      <td>0.000278</td>\n",
       "      <td>-0.014740</td>\n",
       "    </tr>\n",
       "    <tr>\n",
       "      <th>Browser</th>\n",
       "      <td>-0.025243</td>\n",
       "      <td>-0.015525</td>\n",
       "      <td>-0.038257</td>\n",
       "      <td>-0.019346</td>\n",
       "      <td>-0.013326</td>\n",
       "      <td>-0.007549</td>\n",
       "      <td>-0.016009</td>\n",
       "      <td>-0.004407</td>\n",
       "      <td>0.045510</td>\n",
       "      <td>0.003412</td>\n",
       "      <td>0.222916</td>\n",
       "      <td>1.000000</td>\n",
       "      <td>0.097297</td>\n",
       "      <td>0.111985</td>\n",
       "      <td>-0.040212</td>\n",
       "      <td>0.023869</td>\n",
       "    </tr>\n",
       "    <tr>\n",
       "      <th>Region</th>\n",
       "      <td>-0.005680</td>\n",
       "      <td>-0.005681</td>\n",
       "      <td>-0.029442</td>\n",
       "      <td>-0.027244</td>\n",
       "      <td>-0.038318</td>\n",
       "      <td>-0.033263</td>\n",
       "      <td>-0.006731</td>\n",
       "      <td>-0.008836</td>\n",
       "      <td>0.011233</td>\n",
       "      <td>-0.016188</td>\n",
       "      <td>0.076785</td>\n",
       "      <td>0.097297</td>\n",
       "      <td>1.000000</td>\n",
       "      <td>0.047266</td>\n",
       "      <td>-0.000966</td>\n",
       "      <td>-0.011717</td>\n",
       "    </tr>\n",
       "    <tr>\n",
       "      <th>TrafficType</th>\n",
       "      <td>-0.033748</td>\n",
       "      <td>-0.014487</td>\n",
       "      <td>-0.034510</td>\n",
       "      <td>-0.024731</td>\n",
       "      <td>-0.043235</td>\n",
       "      <td>-0.036538</td>\n",
       "      <td>0.078894</td>\n",
       "      <td>0.078998</td>\n",
       "      <td>0.012471</td>\n",
       "      <td>0.052273</td>\n",
       "      <td>0.189072</td>\n",
       "      <td>0.111985</td>\n",
       "      <td>0.047266</td>\n",
       "      <td>1.000000</td>\n",
       "      <td>-0.002575</td>\n",
       "      <td>-0.005212</td>\n",
       "    </tr>\n",
       "    <tr>\n",
       "      <th>Weekend</th>\n",
       "      <td>0.026404</td>\n",
       "      <td>0.014987</td>\n",
       "      <td>0.035557</td>\n",
       "      <td>0.024054</td>\n",
       "      <td>0.016097</td>\n",
       "      <td>0.007293</td>\n",
       "      <td>-0.046870</td>\n",
       "      <td>-0.062942</td>\n",
       "      <td>0.011993</td>\n",
       "      <td>-0.016792</td>\n",
       "      <td>0.000278</td>\n",
       "      <td>-0.040212</td>\n",
       "      <td>-0.000966</td>\n",
       "      <td>-0.002575</td>\n",
       "      <td>1.000000</td>\n",
       "      <td>0.029293</td>\n",
       "    </tr>\n",
       "    <tr>\n",
       "      <th>Revenue</th>\n",
       "      <td>0.138631</td>\n",
       "      <td>0.093395</td>\n",
       "      <td>0.095085</td>\n",
       "      <td>0.070250</td>\n",
       "      <td>0.158280</td>\n",
       "      <td>0.152130</td>\n",
       "      <td>-0.150621</td>\n",
       "      <td>-0.206886</td>\n",
       "      <td>0.492494</td>\n",
       "      <td>-0.082468</td>\n",
       "      <td>-0.014740</td>\n",
       "      <td>0.023869</td>\n",
       "      <td>-0.011717</td>\n",
       "      <td>-0.005212</td>\n",
       "      <td>0.029293</td>\n",
       "      <td>1.000000</td>\n",
       "    </tr>\n",
       "  </tbody>\n",
       "</table>\n",
       "</div>"
      ],
      "text/plain": [
       "                         Administrative  Administrative_Duration  \\\n",
       "Administrative                 1.000000                 0.601466   \n",
       "Administrative_Duration        0.601466                 1.000000   \n",
       "Informational                  0.376782                 0.302647   \n",
       "Informational_Duration         0.255757                 0.237959   \n",
       "ProductRelated                 0.430832                 0.288869   \n",
       "ProductRelated_Duration        0.373647                 0.355238   \n",
       "BounceRates                   -0.223474                -0.144128   \n",
       "ExitRates                     -0.316192                -0.205618   \n",
       "PageValues                     0.098771                 0.067463   \n",
       "SpecialDay                    -0.095054                -0.073472   \n",
       "OperatingSystems              -0.006459                -0.007425   \n",
       "Browser                       -0.025243                -0.015525   \n",
       "Region                        -0.005680                -0.005681   \n",
       "TrafficType                   -0.033748                -0.014487   \n",
       "Weekend                        0.026404                 0.014987   \n",
       "Revenue                        0.138631                 0.093395   \n",
       "\n",
       "                         Informational  Informational_Duration  \\\n",
       "Administrative                0.376782                0.255757   \n",
       "Administrative_Duration       0.302647                0.237959   \n",
       "Informational                 1.000000                0.618965   \n",
       "Informational_Duration        0.618965                1.000000   \n",
       "ProductRelated                0.374098                0.279966   \n",
       "ProductRelated_Duration       0.387446                0.347300   \n",
       "BounceRates                  -0.116071               -0.074077   \n",
       "ExitRates                    -0.163539               -0.105205   \n",
       "PageValues                    0.048539                0.030787   \n",
       "SpecialDay                   -0.048328               -0.030658   \n",
       "OperatingSystems             -0.009435               -0.009596   \n",
       "Browser                      -0.038257               -0.019346   \n",
       "Region                       -0.029442               -0.027244   \n",
       "TrafficType                  -0.034510               -0.024731   \n",
       "Weekend                       0.035557                0.024054   \n",
       "Revenue                       0.095085                0.070250   \n",
       "\n",
       "                         ProductRelated  ProductRelated_Duration  BounceRates  \\\n",
       "Administrative                 0.430832                 0.373647    -0.223474   \n",
       "Administrative_Duration        0.288869                 0.355238    -0.144128   \n",
       "Informational                  0.374098                 0.387446    -0.116071   \n",
       "Informational_Duration         0.279966                 0.347300    -0.074077   \n",
       "ProductRelated                 1.000000                 0.860868    -0.204469   \n",
       "ProductRelated_Duration        0.860868                 1.000000    -0.184409   \n",
       "BounceRates                   -0.204469                -0.184409     1.000000   \n",
       "ExitRates                     -0.292219                -0.251645     0.913436   \n",
       "PageValues                     0.056067                 0.052623    -0.119357   \n",
       "SpecialDay                    -0.024190                -0.036598     0.073088   \n",
       "OperatingSystems               0.004193                 0.002885     0.023965   \n",
       "Browser                       -0.013326                -0.007549    -0.016009   \n",
       "Region                        -0.038318                -0.033263    -0.006731   \n",
       "TrafficType                   -0.043235                -0.036538     0.078894   \n",
       "Weekend                        0.016097                 0.007293    -0.046870   \n",
       "Revenue                        0.158280                 0.152130    -0.150621   \n",
       "\n",
       "                         ExitRates  PageValues  SpecialDay  OperatingSystems  \\\n",
       "Administrative           -0.316192    0.098771   -0.095054         -0.006459   \n",
       "Administrative_Duration  -0.205618    0.067463   -0.073472         -0.007425   \n",
       "Informational            -0.163539    0.048539   -0.048328         -0.009435   \n",
       "Informational_Duration   -0.105205    0.030787   -0.030658         -0.009596   \n",
       "ProductRelated           -0.292219    0.056067   -0.024190          0.004193   \n",
       "ProductRelated_Duration  -0.251645    0.052623   -0.036598          0.002885   \n",
       "BounceRates               0.913436   -0.119357    0.073088          0.023965   \n",
       "ExitRates                 1.000000   -0.174397    0.102899          0.014745   \n",
       "PageValues               -0.174397    1.000000   -0.063660          0.018466   \n",
       "SpecialDay                0.102899   -0.063660    1.000000          0.012609   \n",
       "OperatingSystems          0.014745    0.018466    0.012609          1.000000   \n",
       "Browser                  -0.004407    0.045510    0.003412          0.222916   \n",
       "Region                   -0.008836    0.011233   -0.016188          0.076785   \n",
       "TrafficType               0.078998    0.012471    0.052273          0.189072   \n",
       "Weekend                  -0.062942    0.011993   -0.016792          0.000278   \n",
       "Revenue                  -0.206886    0.492494   -0.082468         -0.014740   \n",
       "\n",
       "                          Browser    Region  TrafficType   Weekend   Revenue  \n",
       "Administrative          -0.025243 -0.005680    -0.033748  0.026404  0.138631  \n",
       "Administrative_Duration -0.015525 -0.005681    -0.014487  0.014987  0.093395  \n",
       "Informational           -0.038257 -0.029442    -0.034510  0.035557  0.095085  \n",
       "Informational_Duration  -0.019346 -0.027244    -0.024731  0.024054  0.070250  \n",
       "ProductRelated          -0.013326 -0.038318    -0.043235  0.016097  0.158280  \n",
       "ProductRelated_Duration -0.007549 -0.033263    -0.036538  0.007293  0.152130  \n",
       "BounceRates             -0.016009 -0.006731     0.078894 -0.046870 -0.150621  \n",
       "ExitRates               -0.004407 -0.008836     0.078998 -0.062942 -0.206886  \n",
       "PageValues               0.045510  0.011233     0.012471  0.011993  0.492494  \n",
       "SpecialDay               0.003412 -0.016188     0.052273 -0.016792 -0.082468  \n",
       "OperatingSystems         0.222916  0.076785     0.189072  0.000278 -0.014740  \n",
       "Browser                  1.000000  0.097297     0.111985 -0.040212  0.023869  \n",
       "Region                   0.097297  1.000000     0.047266 -0.000966 -0.011717  \n",
       "TrafficType              0.111985  0.047266     1.000000 -0.002575 -0.005212  \n",
       "Weekend                 -0.040212 -0.000966    -0.002575  1.000000  0.029293  \n",
       "Revenue                  0.023869 -0.011717    -0.005212  0.029293  1.000000  "
      ]
     },
     "execution_count": 22,
     "metadata": {},
     "output_type": "execute_result"
    }
   ],
   "source": [
    "data.corr()"
   ]
  },
  {
   "cell_type": "code",
   "execution_count": 23,
   "metadata": {},
   "outputs": [
    {
     "data": {
      "text/plain": [
       "<matplotlib.axes._subplots.AxesSubplot at 0x7fb30a7710b8>"
      ]
     },
     "execution_count": 23,
     "metadata": {},
     "output_type": "execute_result"
    },
    {
     "data": {
      "image/png": "[encoded data removed]",
      "text/plain": [
       "<Figure size 720x576 with 2 Axes>"
      ]
     },
     "metadata": {
      "needs_background": "light"
     },
     "output_type": "display_data"
    }
   ],
   "source": [
    "f, ax = plt.subplots(figsize=(10, 8))\n",
    "corr = data.corr()\n",
    "sns.heatmap(corr, mask=np.zeros_like(corr, dtype=np.bool), cmap=sns.diverging_palette(220, 10, as_cmap=True),\n",
    "            square=True, ax=ax)"
   ]
  },
  {
   "cell_type": "code",
   "execution_count": 24,
   "metadata": {},
   "outputs": [
    {
     "data": {
      "text/plain": [
       "<matplotlib.axes._subplots.AxesSubplot at 0x7fb33c494c18>"
      ]
     },
     "execution_count": 24,
     "metadata": {},
     "output_type": "execute_result"
    },
    {
     "data": {
      "image/png": "[encoded data removed]",
      "text/plain": [
       "<Figure size 504x504 with 1 Axes>"
      ]
     },
     "metadata": {
      "needs_background": "light"
     },
     "output_type": "display_data"
    }
   ],
   "source": [
    "plt.rcParams['figure.figsize'] = (7,7)\n",
    "sns.countplot(data['Revenue'], palette='inferno')"
   ]
  },
  {
   "cell_type": "code",
   "execution_count": 25,
   "metadata": {},
   "outputs": [],
   "source": [
    "df = data"
   ]
  },
  {
   "cell_type": "markdown",
   "metadata": {},
   "source": [
    "**Label Encoding**"
   ]
  },
  {
   "cell_type": "code",
   "execution_count": 26,
   "metadata": {},
   "outputs": [],
   "source": [
    "df = pd.get_dummies(df,columns=['SpecialDay', 'Month', 'OperatingSystems','Browser','Region','TrafficType','VisitorType','Weekend'])"
   ]
  },
  {
   "cell_type": "code",
   "execution_count": 27,
   "metadata": {},
   "outputs": [
    {
     "data": {
      "text/plain": [
       "Index(['Administrative', 'Administrative_Duration', 'Informational',\n",
       "       'Informational_Duration', 'ProductRelated', 'ProductRelated_Duration',\n",
       "       'BounceRates', 'ExitRates', 'PageValues', 'Revenue', 'SpecialDay_0.0',\n",
       "       'SpecialDay_0.2', 'SpecialDay_0.4', 'SpecialDay_0.6', 'SpecialDay_0.8',\n",
       "       'SpecialDay_1.0', 'Month_Aug', 'Month_Dec', 'Month_Feb', 'Month_Jul',\n",
       "       'Month_June', 'Month_Mar', 'Month_May', 'Month_Nov', 'Month_Oct',\n",
       "       'Month_Sep', 'OperatingSystems_1', 'OperatingSystems_2',\n",
       "       'OperatingSystems_3', 'OperatingSystems_4', 'OperatingSystems_5',\n",
       "       'OperatingSystems_6', 'OperatingSystems_7', 'OperatingSystems_8',\n",
       "       'Browser_1', 'Browser_2', 'Browser_3', 'Browser_4', 'Browser_5',\n",
       "       'Browser_6', 'Browser_7', 'Browser_8', 'Browser_9', 'Browser_10',\n",
       "       'Browser_11', 'Browser_12', 'Browser_13', 'Region_1', 'Region_2',\n",
       "       'Region_3', 'Region_4', 'Region_5', 'Region_6', 'Region_7', 'Region_8',\n",
       "       'Region_9', 'TrafficType_1', 'TrafficType_2', 'TrafficType_3',\n",
       "       'TrafficType_4', 'TrafficType_5', 'TrafficType_6', 'TrafficType_7',\n",
       "       'TrafficType_8', 'TrafficType_9', 'TrafficType_10', 'TrafficType_11',\n",
       "       'TrafficType_12', 'TrafficType_13', 'TrafficType_14', 'TrafficType_15',\n",
       "       'TrafficType_16', 'TrafficType_17', 'TrafficType_18', 'TrafficType_19',\n",
       "       'TrafficType_20', 'VisitorType_New_Visitor', 'VisitorType_Other',\n",
       "       'VisitorType_Returning_Visitor', 'Weekend_False', 'Weekend_True'],\n",
       "      dtype='object')"
      ]
     },
     "execution_count": 27,
     "metadata": {},
     "output_type": "execute_result"
    }
   ],
   "source": [
    "df.columns"
   ]
  },
  {
   "cell_type": "code",
   "execution_count": 28,
   "metadata": {},
   "outputs": [],
   "source": [
    "target = df['Revenue']\n",
    "df = df.drop(columns=['Revenue'])"
   ]
  },
  {
   "cell_type": "code",
   "execution_count": 29,
   "metadata": {},
   "outputs": [],
   "source": [
    "X_train,X_test,y_train,y_test = train_test_split(df,target,random_state=0)"
   ]
  },
  {
   "cell_type": "code",
   "execution_count": 30,
   "metadata": {},
   "outputs": [
    {
     "data": {
      "text/plain": [
       "(9237, 80)"
      ]
     },
     "execution_count": 30,
     "metadata": {},
     "output_type": "execute_result"
    }
   ],
   "source": [
    "X_train.shape"
   ]
  },
  {
   "cell_type": "code",
   "execution_count": 31,
   "metadata": {},
   "outputs": [
    {
     "data": {
      "text/plain": [
       "(9237,)"
      ]
     },
     "execution_count": 31,
     "metadata": {},
     "output_type": "execute_result"
    }
   ],
   "source": [
    "y_train.shape"
   ]
  },
  {
   "cell_type": "markdown",
   "metadata": {},
   "source": [
    "**Decission Tree**"
   ]
  },
  {
   "cell_type": "code",
   "execution_count": 32,
   "metadata": {},
   "outputs": [
    {
     "data": {
      "text/plain": [
       "0.8629425138031829"
      ]
     },
     "execution_count": 32,
     "metadata": {},
     "output_type": "execute_result"
    }
   ],
   "source": [
    "model = DecisionTreeClassifier()\n",
    "model.fit(X_train,y_train)\n",
    "predict = model.predict(X_test)\n",
    "accuracy_score(y_test,predict)"
   ]
  },
  {
   "cell_type": "code",
   "execution_count": 33,
   "metadata": {},
   "outputs": [
    {
     "name": "stdout",
     "output_type": "stream",
     "text": [
      "              precision    recall  f1-score   support\n",
      "\n",
      "       False       0.92      0.92      0.92      2599\n",
      "        True       0.56      0.58      0.57       480\n",
      "\n",
      "    accuracy                           0.86      3079\n",
      "   macro avg       0.74      0.75      0.74      3079\n",
      "weighted avg       0.86      0.86      0.86      3079\n",
      "\n"
     ]
    }
   ],
   "source": [
    "print(classification_report(y_test, predict))"
   ]
  },
  {
   "cell_type": "markdown",
   "metadata": {},
   "source": [
    "**Logistic Regression**"
   ]
  },
  {
   "cell_type": "code",
   "execution_count": 34,
   "metadata": {},
   "outputs": [
    {
     "name": "stderr",
     "output_type": "stream",
     "text": [
      "/usr/local/lib/python3.6/dist-packages/sklearn/linear_model/_logistic.py:940: ConvergenceWarning:\n",
      "\n",
      "lbfgs failed to converge (status=1):\n",
      "STOP: TOTAL NO. of ITERATIONS REACHED LIMIT.\n",
      "\n",
      "Increase the number of iterations (max_iter) or scale the data as shown in:\n",
      "    https://scikit-learn.org/stable/modules/preprocessing.html\n",
      "Please also refer to the documentation for alternative solver options:\n",
      "    https://scikit-learn.org/stable/modules/linear_model.html#logistic-regression\n",
      "\n"
     ]
    },
    {
     "data": {
      "text/plain": [
       "0.8843780448197467"
      ]
     },
     "execution_count": 34,
     "metadata": {},
     "output_type": "execute_result"
    }
   ],
   "source": [
    "model = LogisticRegression()\n",
    "model.fit(X_train,y_train)\n",
    "predict = model.predict(X_test)\n",
    "accuracy_score(y_test,predict)"
   ]
  },
  {
   "cell_type": "code",
   "execution_count": 35,
   "metadata": {},
   "outputs": [
    {
     "name": "stdout",
     "output_type": "stream",
     "text": [
      "              precision    recall  f1-score   support\n",
      "\n",
      "       False       0.89      0.98      0.93      2599\n",
      "        True       0.78      0.36      0.49       480\n",
      "\n",
      "    accuracy                           0.88      3079\n",
      "   macro avg       0.83      0.67      0.71      3079\n",
      "weighted avg       0.87      0.88      0.87      3079\n",
      "\n"
     ]
    }
   ],
   "source": [
    "print(classification_report(y_test, predict))"
   ]
  },
  {
   "cell_type": "markdown",
   "metadata": {},
   "source": [
    "**Extra Trees Classifier**"
   ]
  },
  {
   "cell_type": "code",
   "execution_count": 36,
   "metadata": {},
   "outputs": [
    {
     "data": {
      "text/plain": [
       "0.882104579408899"
      ]
     },
     "execution_count": 36,
     "metadata": {},
     "output_type": "execute_result"
    }
   ],
   "source": [
    "model = ExtraTreesClassifier()\n",
    "model.fit(X_train,y_train)\n",
    "predict = model.predict(X_test)\n",
    "accuracy_score(y_test,predict)"
   ]
  },
  {
   "cell_type": "code",
   "execution_count": 37,
   "metadata": {},
   "outputs": [
    {
     "name": "stdout",
     "output_type": "stream",
     "text": [
      "              precision    recall  f1-score   support\n",
      "\n",
      "       False       0.89      0.98      0.93      2599\n",
      "        True       0.77      0.35      0.48       480\n",
      "\n",
      "    accuracy                           0.88      3079\n",
      "   macro avg       0.83      0.67      0.71      3079\n",
      "weighted avg       0.87      0.88      0.86      3079\n",
      "\n"
     ]
    }
   ],
   "source": [
    "print(classification_report(y_test, predict))"
   ]
  },
  {
   "cell_type": "markdown",
   "metadata": {},
   "source": [
    "**Gradient Boost Classifier**"
   ]
  },
  {
   "cell_type": "code",
   "execution_count": 38,
   "metadata": {},
   "outputs": [
    {
     "data": {
      "text/plain": [
       "0.90776226047418"
      ]
     },
     "execution_count": 38,
     "metadata": {},
     "output_type": "execute_result"
    }
   ],
   "source": [
    "model = GradientBoostingClassifier()\n",
    "model.fit(X_train,y_train)\n",
    "predict = model.predict(X_test)\n",
    "accuracy_score(y_test,predict)"
   ]
  },
  {
   "cell_type": "code",
   "execution_count": 39,
   "metadata": {},
   "outputs": [
    {
     "name": "stdout",
     "output_type": "stream",
     "text": [
      "              precision    recall  f1-score   support\n",
      "\n",
      "       False       0.93      0.96      0.95      2599\n",
      "        True       0.75      0.61      0.67       480\n",
      "\n",
      "    accuracy                           0.91      3079\n",
      "   macro avg       0.84      0.79      0.81      3079\n",
      "weighted avg       0.90      0.91      0.90      3079\n",
      "\n"
     ]
    }
   ],
   "source": [
    "print(classification_report(y_test, predict))"
   ]
  },
  {
   "cell_type": "markdown",
   "metadata": {},
   "source": [
    "**Random Forest Classifier**"
   ]
  },
  {
   "cell_type": "code",
   "execution_count": 40,
   "metadata": {},
   "outputs": [
    {
     "data": {
      "text/plain": [
       "0.9025657681065281"
      ]
     },
     "execution_count": 40,
     "metadata": {},
     "output_type": "execute_result"
    }
   ],
   "source": [
    "model = RandomForestClassifier()\n",
    "model.fit(X_train,y_train)\n",
    "predict = model.predict(X_test)\n",
    "accuracy_score(y_test,predict)"
   ]
  },
  {
   "cell_type": "code",
   "execution_count": 41,
   "metadata": {},
   "outputs": [
    {
     "name": "stdout",
     "output_type": "stream",
     "text": [
      "              precision    recall  f1-score   support\n",
      "\n",
      "       False       0.91      0.98      0.94      2599\n",
      "        True       0.79      0.51      0.62       480\n",
      "\n",
      "    accuracy                           0.90      3079\n",
      "   macro avg       0.85      0.74      0.78      3079\n",
      "weighted avg       0.90      0.90      0.89      3079\n",
      "\n"
     ]
    }
   ],
   "source": [
    "print(classification_report(y_test, predict))"
   ]
  },
  {
   "cell_type": "code",
   "execution_count": null,
   "metadata": {},
   "outputs": [],
   "source": []
  },
  {
   "cell_type": "code",
   "execution_count": null,
   "metadata": {},
   "outputs": [],
   "source": []
  }
 ],
 "metadata": {
  "kernelspec": {
   "display_name": "Python 3",
   "language": "python",
   "name": "python3"
  },
  "language_info": {
   "codemirror_mode": {
    "name": "ipython",
    "version": 3
   },
   "file_extension": ".py",
   "mimetype": "text/x-python",
   "name": "python",
   "nbconvert_exporter": "python",
   "pygments_lexer": "ipython3",
   "version": "3.6.9"
  }
 },
 "nbformat": 4,
 "nbformat_minor": 4
}
